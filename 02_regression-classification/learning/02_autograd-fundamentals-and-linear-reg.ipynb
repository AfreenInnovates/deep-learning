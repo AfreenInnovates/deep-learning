{
  "nbformat": 4,
  "nbformat_minor": 0,
  "metadata": {
    "colab": {
      "provenance": [],
      "collapsed_sections": [
        "UtYPSAu_2tYs",
        "-WRIKQcmogBZ",
        "pZCMjTzD3dRu",
        "1K8LaTgC3fW6",
        "2yy8-E6t-Kia",
        "aYv3NQlmAdi-",
        "dV1-7YEVBbAo",
        "f8SpROLqB4s7"
      ]
    },
    "kernelspec": {
      "name": "python3",
      "display_name": "Python 3"
    },
    "language_info": {
      "name": "python"
    }
  },
  "cells": [
    {
      "cell_type": "markdown",
      "source": [
        "# Training step example — linear regression (manual optimizer)"
      ],
      "metadata": {
        "id": "UtYPSAu_2tYs"
      }
    },
    {
      "cell_type": "code",
      "execution_count": 1,
      "metadata": {
        "id": "S2kToeBR1_XM"
      },
      "outputs": [],
      "source": [
        "import torch"
      ]
    },
    {
      "cell_type": "code",
      "source": [
        "x = torch.linspace(0, 1, 11)"
      ],
      "metadata": {
        "id": "bkziCAZS2yrZ"
      },
      "execution_count": 2,
      "outputs": []
    },
    {
      "cell_type": "code",
      "source": [
        "x"
      ],
      "metadata": {
        "colab": {
          "base_uri": "https://localhost:8080/"
        },
        "id": "Nb2F7_jC240g",
        "outputId": "a3c1a3a1-a8e0-4881-d234-cab7ad8dffe0"
      },
      "execution_count": 3,
      "outputs": [
        {
          "output_type": "execute_result",
          "data": {
            "text/plain": [
              "tensor([0.0000, 0.1000, 0.2000, 0.3000, 0.4000, 0.5000, 0.6000, 0.7000, 0.8000,\n",
              "        0.9000, 1.0000])"
            ]
          },
          "metadata": {},
          "execution_count": 3
        }
      ]
    },
    {
      "cell_type": "code",
      "source": [
        "x = torch.linspace(0, 1, 11).unsqueeze(1)"
      ],
      "metadata": {
        "id": "owXOolzO24_4"
      },
      "execution_count": 4,
      "outputs": []
    },
    {
      "cell_type": "code",
      "source": [
        "x"
      ],
      "metadata": {
        "colab": {
          "base_uri": "https://localhost:8080/"
        },
        "id": "1I3S4mrb27Tc",
        "outputId": "e8ad6d74-2399-4bcf-dc83-e4a32d31e06b"
      },
      "execution_count": 5,
      "outputs": [
        {
          "output_type": "execute_result",
          "data": {
            "text/plain": [
              "tensor([[0.0000],\n",
              "        [0.1000],\n",
              "        [0.2000],\n",
              "        [0.3000],\n",
              "        [0.4000],\n",
              "        [0.5000],\n",
              "        [0.6000],\n",
              "        [0.7000],\n",
              "        [0.8000],\n",
              "        [0.9000],\n",
              "        [1.0000]])"
            ]
          },
          "metadata": {},
          "execution_count": 5
        }
      ]
    },
    {
      "cell_type": "code",
      "source": [
        "y = 10 * x + 3"
      ],
      "metadata": {
        "id": "J3HnnQDW27nT"
      },
      "execution_count": 6,
      "outputs": []
    },
    {
      "cell_type": "code",
      "source": [
        "y"
      ],
      "metadata": {
        "colab": {
          "base_uri": "https://localhost:8080/"
        },
        "id": "eawIkJ2c3AnP",
        "outputId": "0f4b60a3-1d38-4376-d8ee-5bbb3e7844ad"
      },
      "execution_count": 7,
      "outputs": [
        {
          "output_type": "execute_result",
          "data": {
            "text/plain": [
              "tensor([[ 3.],\n",
              "        [ 4.],\n",
              "        [ 5.],\n",
              "        [ 6.],\n",
              "        [ 7.],\n",
              "        [ 8.],\n",
              "        [ 9.],\n",
              "        [10.],\n",
              "        [11.],\n",
              "        [12.],\n",
              "        [13.]])"
            ]
          },
          "metadata": {},
          "execution_count": 7
        }
      ]
    },
    {
      "cell_type": "code",
      "source": [
        "w = torch.randn(1, requires_grad=True)\n",
        "b = torch.randn(1, requires_grad=True)"
      ],
      "metadata": {
        "id": "Wgdgm9PQ3A4k"
      },
      "execution_count": 8,
      "outputs": []
    },
    {
      "cell_type": "code",
      "source": [
        "w, b"
      ],
      "metadata": {
        "colab": {
          "base_uri": "https://localhost:8080/"
        },
        "id": "SJLkYZ8g3VIl",
        "outputId": "97ef29bb-4360-4497-d680-4b0afd34c802"
      },
      "execution_count": 9,
      "outputs": [
        {
          "output_type": "execute_result",
          "data": {
            "text/plain": [
              "(tensor([0.6912], requires_grad=True), tensor([-0.3673], requires_grad=True))"
            ]
          },
          "metadata": {},
          "execution_count": 9
        }
      ]
    },
    {
      "cell_type": "code",
      "source": [
        "lr = 1e-3"
      ],
      "metadata": {
        "id": "N6t7TFTm3VpI"
      },
      "execution_count": 10,
      "outputs": []
    },
    {
      "cell_type": "code",
      "source": [
        "lr"
      ],
      "metadata": {
        "colab": {
          "base_uri": "https://localhost:8080/"
        },
        "id": "HH16uJCq3ZzR",
        "outputId": "c0a7002d-251c-4e91-f975-365635c4c7de"
      },
      "execution_count": 11,
      "outputs": [
        {
          "output_type": "execute_result",
          "data": {
            "text/plain": [
              "0.001"
            ]
          },
          "metadata": {},
          "execution_count": 11
        }
      ]
    },
    {
      "cell_type": "code",
      "source": [
        "for epoch in range(200):\n",
        "  y_pred = (x * w) + b\n",
        "\n",
        "  loss = ((y - y_pred) ** 2).mean() # MSE\n",
        "\n",
        "  loss.backward()\n",
        "\n",
        "  with torch.no_grad():\n",
        "    w -= lr * w.grad\n",
        "    b -= lr * b.grad\n",
        "\n",
        "    w.grad.zero_()\n",
        "    b.grad.zero_()"
      ],
      "metadata": {
        "id": "87Gu4QJs3aLe"
      },
      "execution_count": 12,
      "outputs": []
    },
    {
      "cell_type": "markdown",
      "source": [
        "\n",
        "| Step | Code | Explanation |\n",
        "|------|------|-------------|\n",
        "| **Forward pass** | `y_pred = x * w + b`<br><br>`loss = ((y - y_pred) ** 2).mean()` | Compute predictions and loss. PyTorch builds a computation graph to track operations on tensors with `requires_grad=True`. |\n",
        "| **Backward pass** | `loss.backward()` | Computes gradients of `loss` w.r.t all tensors with `requires_grad=True` (e.g., `w.grad`, `b.grad`). Uses reverse-mode automatic differentiation. |\n",
        "| **Disable gradient tracking** | `with torch.no_grad():`<br><br>`    w -= lr * w.grad`<br><br>`    b -= lr * b.grad` | Prevents PyTorch from tracking the parameter update operations in the computation graph. Saves memory and avoids incorrect gradient tracking. |\n",
        "| **Update parameters** | `w -= lr * w.grad`<br><br>`b -= lr * b.grad` | Performs the gradient descent step: parameter -= learning_rate * gradient. |\n",
        "| **Zero gradients** | `w.grad.zero_()`<br><br>`b.grad.zero_()` | Clears accumulated gradients from the previous step. PyTorch **accumulates gradients by default**, so this is necessary before the next iteration. |\n",
        "| **Alternative using Optimizer** | `optimizer = torch.optim.SGD([w,b], lr=lr) `<br><br>` optimizer.zero_grad() `<br><br>` loss.backward() `<br><br>` optimizer.step()`<br><br>`` | Cleaner, safer approach for updating parameters. Handles zeroing gradients and applying gradient descent automatically. |\n",
        "\n",
        "> **Key Points:**  \n",
        "> 1. Gradients accumulate in PyTorch; always zero before next backward pass.  \n",
        "> 2. `torch.no_grad()` is essential for manual updates to avoid including them in the computation graph.  \n",
        "> 3. Using optimizers (`torch.optim`) is preferred for deep networks and production code."
      ],
      "metadata": {
        "id": "iK6S4xKp4Bwd"
      }
    },
    {
      "cell_type": "code",
      "source": [],
      "metadata": {
        "id": "8xR2Q5b94CGL"
      },
      "execution_count": 12,
      "outputs": []
    },
    {
      "cell_type": "markdown",
      "source": [
        "# Autograd - In Depth\n",
        "\n",
        "<h3>manual vs autograd</h3>"
      ],
      "metadata": {
        "id": "-WRIKQcmogBZ"
      }
    },
    {
      "cell_type": "code",
      "source": [
        "import torch"
      ],
      "metadata": {
        "id": "youRTSpMohm7"
      },
      "execution_count": 13,
      "outputs": []
    },
    {
      "cell_type": "code",
      "source": [
        "x = torch.tensor(2.0)\n",
        "y_true = torch.tensor(7.0)"
      ],
      "metadata": {
        "id": "c8qHu0hFtfie"
      },
      "execution_count": 14,
      "outputs": []
    },
    {
      "cell_type": "code",
      "source": [
        "x, y_true"
      ],
      "metadata": {
        "colab": {
          "base_uri": "https://localhost:8080/"
        },
        "id": "7jmFsHVYuC5A",
        "outputId": "56efaab2-bea6-4c73-f3c6-a7806e0e097d"
      },
      "execution_count": 15,
      "outputs": [
        {
          "output_type": "execute_result",
          "data": {
            "text/plain": [
              "(tensor(2.), tensor(7.))"
            ]
          },
          "metadata": {},
          "execution_count": 15
        }
      ]
    },
    {
      "cell_type": "code",
      "source": [
        "w = torch.tensor(1.0, requires_grad=True)\n",
        "b = torch.tensor(0.0, requires_grad=True)"
      ],
      "metadata": {
        "id": "xofBG-bHuDfQ"
      },
      "execution_count": 16,
      "outputs": []
    },
    {
      "cell_type": "code",
      "source": [
        "y_pred = (w * x) + b\n",
        "\n",
        "y_pred"
      ],
      "metadata": {
        "colab": {
          "base_uri": "https://localhost:8080/"
        },
        "id": "SwF4DlaUuLx8",
        "outputId": "cfc29bbb-0842-400b-f2d0-032fc0740511"
      },
      "execution_count": 17,
      "outputs": [
        {
          "output_type": "execute_result",
          "data": {
            "text/plain": [
              "tensor(2., grad_fn=<AddBackward0>)"
            ]
          },
          "metadata": {},
          "execution_count": 17
        }
      ]
    },
    {
      "cell_type": "code",
      "source": [
        "loss =(y_pred - y_true) ** 2"
      ],
      "metadata": {
        "id": "HFR3Odz5uPk5"
      },
      "execution_count": 18,
      "outputs": []
    },
    {
      "cell_type": "code",
      "source": [
        "loss"
      ],
      "metadata": {
        "colab": {
          "base_uri": "https://localhost:8080/"
        },
        "id": "WvTlB_GHuS9x",
        "outputId": "1dd69771-4f78-4f66-de64-322b8e26d975"
      },
      "execution_count": 19,
      "outputs": [
        {
          "output_type": "execute_result",
          "data": {
            "text/plain": [
              "tensor(25., grad_fn=<PowBackward0>)"
            ]
          },
          "metadata": {},
          "execution_count": 19
        }
      ]
    },
    {
      "cell_type": "code",
      "source": [
        "# autograd: compute gradients dloss/dw, dloss/db\n",
        "loss.backward()"
      ],
      "metadata": {
        "id": "gdRZ8gsZuTe0"
      },
      "execution_count": 20,
      "outputs": []
    },
    {
      "cell_type": "code",
      "source": [
        "print(\"dloss/dw (autograd) =\", w.grad)\n",
        "print(\"dloss/db (autograd) =\", b.grad)"
      ],
      "metadata": {
        "colab": {
          "base_uri": "https://localhost:8080/"
        },
        "id": "KNqxQoJ9wU-F",
        "outputId": "67f9e97c-c902-4357-875f-11a87b219d6a"
      },
      "execution_count": 21,
      "outputs": [
        {
          "output_type": "stream",
          "name": "stdout",
          "text": [
            "dloss/dw (autograd) = tensor(-20.)\n",
            "dloss/db (autograd) = tensor(-10.)\n"
          ]
        }
      ]
    },
    {
      "cell_type": "code",
      "source": [
        "print(\"dloss/dw (autograd) =\", w.grad)  # expected 2*(y_pred - y_true)*x\n",
        "print(\"dloss/db (autograd) =\", b.grad)  # expected 2*(y_pred - y_true)"
      ],
      "metadata": {
        "colab": {
          "base_uri": "https://localhost:8080/"
        },
        "id": "b5cxb_CLwYN_",
        "outputId": "dd254d8c-3aa5-4026-d306-b0dc5462af73"
      },
      "execution_count": 22,
      "outputs": [
        {
          "output_type": "stream",
          "name": "stdout",
          "text": [
            "dloss/dw (autograd) = tensor(-20.)\n",
            "dloss/db (autograd) = tensor(-10.)\n"
          ]
        }
      ]
    },
    {
      "cell_type": "code",
      "source": [
        "y_pred_val = (w.detach().item()) * x.item() + b.detach().item()\n",
        "y_pred_val"
      ],
      "metadata": {
        "colab": {
          "base_uri": "https://localhost:8080/"
        },
        "id": "rUb8t5kYwaHt",
        "outputId": "0e346336-4940-42e8-a0c1-fe482151e72a"
      },
      "execution_count": 23,
      "outputs": [
        {
          "output_type": "execute_result",
          "data": {
            "text/plain": [
              "2.0"
            ]
          },
          "metadata": {},
          "execution_count": 23
        }
      ]
    },
    {
      "cell_type": "code",
      "source": [
        "dl_dyp = 2 * (y_pred_val - y_true.item())\n",
        "manual_dw = dl_dyp * x.item()\n",
        "manual_db = dl_dyp\n",
        "print(\"dloss/dw (manual)  =\", manual_dw)\n",
        "print(\"dloss/db (manual)  =\", manual_db)"
      ],
      "metadata": {
        "colab": {
          "base_uri": "https://localhost:8080/"
        },
        "id": "hgjEjCqwxSTd",
        "outputId": "a28d902c-b6e4-43e3-8a9b-21446510e82a"
      },
      "execution_count": 24,
      "outputs": [
        {
          "output_type": "stream",
          "name": "stdout",
          "text": [
            "dloss/dw (manual)  = -20.0\n",
            "dloss/db (manual)  = -10.0\n"
          ]
        }
      ]
    },
    {
      "cell_type": "code",
      "source": [],
      "metadata": {
        "id": "sxzRkKihxT0u"
      },
      "execution_count": 24,
      "outputs": []
    },
    {
      "cell_type": "markdown",
      "source": [
        "# Workflow Fundamentals"
      ],
      "metadata": {
        "id": "yEIVEdFazht7"
      }
    },
    {
      "cell_type": "markdown",
      "source": [
        "steps:\n",
        "\n",
        "1. get / prep data\n",
        "2. make a model\n",
        "3. train model\n",
        "4. make predictions and evaluate (inference)\n",
        "5. save and load model\n"
      ],
      "metadata": {
        "id": "fPDshOhyzk8U"
      }
    },
    {
      "cell_type": "markdown",
      "source": [
        "## 1. Data Prep"
      ],
      "metadata": {
        "id": "pZCMjTzD3dRu"
      }
    },
    {
      "cell_type": "code",
      "source": [
        "weight = 1\n",
        "bias = 1"
      ],
      "metadata": {
        "id": "VXL_TVIOzi5a"
      },
      "execution_count": 25,
      "outputs": []
    },
    {
      "cell_type": "code",
      "source": [
        "X = torch.arange(1, 101, 1)"
      ],
      "metadata": {
        "id": "5lcVTxqa0g4a"
      },
      "execution_count": 26,
      "outputs": []
    },
    {
      "cell_type": "code",
      "source": [
        "X"
      ],
      "metadata": {
        "colab": {
          "base_uri": "https://localhost:8080/"
        },
        "id": "3pydKuYn0jyF",
        "outputId": "0ffa0f93-95e1-4e99-e95a-7133cc14210d"
      },
      "execution_count": 27,
      "outputs": [
        {
          "output_type": "execute_result",
          "data": {
            "text/plain": [
              "tensor([  1,   2,   3,   4,   5,   6,   7,   8,   9,  10,  11,  12,  13,  14,\n",
              "         15,  16,  17,  18,  19,  20,  21,  22,  23,  24,  25,  26,  27,  28,\n",
              "         29,  30,  31,  32,  33,  34,  35,  36,  37,  38,  39,  40,  41,  42,\n",
              "         43,  44,  45,  46,  47,  48,  49,  50,  51,  52,  53,  54,  55,  56,\n",
              "         57,  58,  59,  60,  61,  62,  63,  64,  65,  66,  67,  68,  69,  70,\n",
              "         71,  72,  73,  74,  75,  76,  77,  78,  79,  80,  81,  82,  83,  84,\n",
              "         85,  86,  87,  88,  89,  90,  91,  92,  93,  94,  95,  96,  97,  98,\n",
              "         99, 100])"
            ]
          },
          "metadata": {},
          "execution_count": 27
        }
      ]
    },
    {
      "cell_type": "code",
      "source": [
        "X = X.unsqueeze(dim=1)"
      ],
      "metadata": {
        "id": "QTyPiFkP0j_F"
      },
      "execution_count": 28,
      "outputs": []
    },
    {
      "cell_type": "code",
      "source": [
        "y = (weight * X) + bias"
      ],
      "metadata": {
        "id": "6-OVCbHL0um1"
      },
      "execution_count": 29,
      "outputs": []
    },
    {
      "cell_type": "code",
      "source": [
        "y[:5]"
      ],
      "metadata": {
        "colab": {
          "base_uri": "https://localhost:8080/"
        },
        "id": "kEVcKnxR0u0R",
        "outputId": "207a5763-0dc7-4e0f-9416-d1f0caf1d60e"
      },
      "execution_count": 30,
      "outputs": [
        {
          "output_type": "execute_result",
          "data": {
            "text/plain": [
              "tensor([[2],\n",
              "        [3],\n",
              "        [4],\n",
              "        [5],\n",
              "        [6]])"
            ]
          },
          "metadata": {},
          "execution_count": 30
        }
      ]
    },
    {
      "cell_type": "code",
      "source": [
        "X.shape"
      ],
      "metadata": {
        "colab": {
          "base_uri": "https://localhost:8080/"
        },
        "id": "UGGNKWmo0_YS",
        "outputId": "8e03a5ff-df57-4f47-852f-33e23e079bb9"
      },
      "execution_count": 31,
      "outputs": [
        {
          "output_type": "execute_result",
          "data": {
            "text/plain": [
              "torch.Size([100, 1])"
            ]
          },
          "metadata": {},
          "execution_count": 31
        }
      ]
    },
    {
      "cell_type": "code",
      "source": [
        "y.shape"
      ],
      "metadata": {
        "colab": {
          "base_uri": "https://localhost:8080/"
        },
        "id": "jZpTUn9q1AV_",
        "outputId": "24bed402-ea12-4044-e038-0bdd4e6eca20"
      },
      "execution_count": 32,
      "outputs": [
        {
          "output_type": "execute_result",
          "data": {
            "text/plain": [
              "torch.Size([100, 1])"
            ]
          },
          "metadata": {},
          "execution_count": 32
        }
      ]
    },
    {
      "cell_type": "code",
      "source": [
        "train_split_size = int(len(X) * 0.8)\n",
        "X_train, y_train = X[:train_split_size], y[:train_split_size]"
      ],
      "metadata": {
        "id": "a4-xLNCI0ybC"
      },
      "execution_count": 33,
      "outputs": []
    },
    {
      "cell_type": "code",
      "source": [
        "X_train.shape"
      ],
      "metadata": {
        "colab": {
          "base_uri": "https://localhost:8080/"
        },
        "id": "5ZkuRAUO1DDM",
        "outputId": "e747f373-a5ad-40fc-e7e2-5206f08a7500"
      },
      "execution_count": 34,
      "outputs": [
        {
          "output_type": "execute_result",
          "data": {
            "text/plain": [
              "torch.Size([80, 1])"
            ]
          },
          "metadata": {},
          "execution_count": 34
        }
      ]
    },
    {
      "cell_type": "code",
      "source": [
        "X_train[:5], X_train[-5:]"
      ],
      "metadata": {
        "colab": {
          "base_uri": "https://localhost:8080/"
        },
        "id": "1654AztP1Dj_",
        "outputId": "2426ea40-3112-4126-9295-2717e49a1c2d"
      },
      "execution_count": 35,
      "outputs": [
        {
          "output_type": "execute_result",
          "data": {
            "text/plain": [
              "(tensor([[1],\n",
              "         [2],\n",
              "         [3],\n",
              "         [4],\n",
              "         [5]]),\n",
              " tensor([[76],\n",
              "         [77],\n",
              "         [78],\n",
              "         [79],\n",
              "         [80]]))"
            ]
          },
          "metadata": {},
          "execution_count": 35
        }
      ]
    },
    {
      "cell_type": "code",
      "source": [
        "y_train.shape, y_train[:5], y_train[-5:]"
      ],
      "metadata": {
        "colab": {
          "base_uri": "https://localhost:8080/"
        },
        "id": "xp3loKsV1FX0",
        "outputId": "6daa3a91-9856-4ce4-f6f3-a6905dcd8289"
      },
      "execution_count": 36,
      "outputs": [
        {
          "output_type": "execute_result",
          "data": {
            "text/plain": [
              "(torch.Size([80, 1]),\n",
              " tensor([[2],\n",
              "         [3],\n",
              "         [4],\n",
              "         [5],\n",
              "         [6]]),\n",
              " tensor([[77],\n",
              "         [78],\n",
              "         [79],\n",
              "         [80],\n",
              "         [81]]))"
            ]
          },
          "metadata": {},
          "execution_count": 36
        }
      ]
    },
    {
      "cell_type": "code",
      "source": [
        "X_test, y_test = X[train_split_size:], y[train_split_size:]"
      ],
      "metadata": {
        "id": "NvcGrKSj1N5y"
      },
      "execution_count": 37,
      "outputs": []
    },
    {
      "cell_type": "code",
      "source": [
        "len(X_test), len(y_test)"
      ],
      "metadata": {
        "colab": {
          "base_uri": "https://localhost:8080/"
        },
        "id": "zm633cFo1VR5",
        "outputId": "8e741d18-0115-48e6-d81d-7cd167888eac"
      },
      "execution_count": 38,
      "outputs": [
        {
          "output_type": "execute_result",
          "data": {
            "text/plain": [
              "(20, 20)"
            ]
          },
          "metadata": {},
          "execution_count": 38
        }
      ]
    },
    {
      "cell_type": "markdown",
      "source": [
        "80% data to train\n",
        "\n",
        "20% data to test"
      ],
      "metadata": {
        "id": "VcpmLUBq1YWI"
      }
    },
    {
      "cell_type": "code",
      "source": [
        "import matplotlib.pyplot as plt"
      ],
      "metadata": {
        "id": "9BNE5Hgp17v2"
      },
      "execution_count": 39,
      "outputs": []
    },
    {
      "cell_type": "code",
      "source": [
        "def plot_predictions(x_train=X_train, y_train=y_train, x_test=X_test, y_test=y_test, y_preds=None):\n",
        "  plt.figure(figsize=(12, 8))\n",
        "  plt.scatter(x_train, y_train, c=\"b\", s=7, label=\"Training Data\")\n",
        "  plt.scatter(x_test, y_test, c=\"r\", s=5, label=\"Testing Data\")\n",
        "\n",
        "  if y_preds is not None:\n",
        "    plt.scatter(x_test, y_preds, c=\"#000000\", s=5, label=\"Predictions\")\n",
        "\n",
        "  plt.legend(prop={\"size\": 14})"
      ],
      "metadata": {
        "id": "xJtnXOkR1Xcp"
      },
      "execution_count": 40,
      "outputs": []
    },
    {
      "cell_type": "code",
      "source": [
        "plot_predictions(X_train, y_train, X_test, y_test)"
      ],
      "metadata": {
        "colab": {
          "base_uri": "https://localhost:8080/",
          "height": 0
        },
        "id": "bj8-tra63Dgr",
        "outputId": "585a7a03-e990-40b3-992f-1d4e2fd4ecd8"
      },
      "execution_count": 41,
      "outputs": [
        {
          "output_type": "display_data",
          "data": {
            "text/plain": [
              "<Figure size 1200x800 with 1 Axes>"
            ],
            "image/png": "[encoded data removed]"
          },
          "metadata": {}
        }
      ]
    },
    {
      "cell_type": "markdown",
      "source": [
        "## 2. Build Model (Linear Regression)"
      ],
      "metadata": {
        "id": "1K8LaTgC3fW6"
      }
    },
    {
      "cell_type": "code",
      "source": [
        "from torch import nn"
      ],
      "metadata": {
        "id": "Mt-yv9tp3y2r"
      },
      "execution_count": 42,
      "outputs": []
    },
    {
      "cell_type": "markdown",
      "source": [
        "* LinearRegressionModel0 — simple linear regression model using PyTorch.\n",
        "\n",
        "* The goal here is to make the model learn the line y = w*x + b\n",
        "  so that it can predict outputs (y) for given inputs (x).\n",
        "\n",
        "* Inherits from nn.Module:\n",
        "  - Every PyTorch model should inherit from nn.Module.\n",
        "  - This gives access to a lot of built-in features like:\n",
        "      tracking parameters automatically,\n",
        "      moving the model to GPU easily,\n",
        "      saving/loading the model later.\n",
        "  - Basically, it makes our custom class work smoothly with PyTorch’s training system.\n",
        "\n",
        "* ____init__ __():\n",
        "  - This function runs when we first create the model object.\n",
        "  - super(). __ __init__ __() calls the base class constructor (nn.Module)\n",
        "    so that it can internally register everything\n",
        "    (this step is important for PyTorch to manage parameters properly).\n",
        "\n",
        "  - self.weights:\n",
        "      This is the slope of the line (the \"w\" in y = w*x + b).\n",
        "      torch.randn(1) creates a random starting value — helps the model not start from zero.\n",
        "      nn.Parameter(...) tells PyTorch “hey, treat this as something to learn”.\n",
        "      requires_grad=True means PyTorch will calculate gradients for it during training.\n",
        "\n",
        "  - self.bias:\n",
        "      This is the intercept of the line (the \"b\" in y = w*x + b).\n",
        "      Same process: random start + registered as a trainable parameter.\n",
        "      Also has requires_grad=True so it can be updated through gradient descent.\n",
        "\n",
        "* Why random values?\n",
        "  - If both w and b started as 0, the model would not learn properly because\n",
        "    the gradient (slope of the loss function) might be zero — no direction to move.\n",
        "  - Random start ensures the model has something to adjust and learn from.\n",
        "\n",
        "* forward(x):\n",
        "  - This is where the actual math happens when we pass data into the model.\n",
        "  - It takes input (x), multiplies by weight, adds bias → gives predicted output.\n",
        "  - Formula: y_pred = (self.weights * x) + self.bias\n",
        "  - Think of this as the model’s brain — this is what runs in every forward pass.\n",
        "\n",
        "* Why define forward():\n",
        "  - Every nn.Module needs it so PyTorch knows how to calculate predictions.\n",
        "  - When you call model(x), PyTorch automatically runs forward(x)\n",
        "    using the internal __call__() mechanism.\n",
        "\n",
        "* What actually happens when we call model(x):\n",
        "  - model.__call__(x) is triggered.\n",
        "  - __call__() runs some internal setup steps (like hooks, device checks, etc.)\n",
        "  - Then __call__() calls your forward(x) function.\n",
        "  - The result from forward(x) is returned as model(x)’s output.\n",
        "  - So model(x) is just a clean and intuitive shortcut to run forward(x).\n",
        "\n",
        "* Why PyTorch doesn’t use model.predict(x):\n",
        "  - Because model(x) is more flexible and integrates directly with the autograd system.\n",
        "  - It can automatically build computation graphs, handle hooks, and work seamlessly on GPUs.\n",
        "  - If you really want, you can define your own predict() that just calls forward() under torch.no_grad() — but it’s optional.\n",
        "\n",
        "* Behind the scenes (training process):\n",
        "  - You pass input x into the model → it predicts y_pred.\n",
        "  - You compare y_pred to the actual y using a loss function (like MSE).\n",
        "  - PyTorch tracks how the prediction was made (since requires_grad=True).\n",
        "  - When you call loss.backward(), it calculates how much w and b should change.\n",
        "  - Then the optimizer updates them using gradient descent.\n",
        "\n",
        "* Why requires_grad=True:\n",
        "  - It tells PyTorch to keep track of operations involving this tensor.\n",
        "  - When backward() is called, gradients are calculated for these parameters.\n",
        "  - Those gradients are stored in param.grad and used to update weights.\n",
        "  - Without it, PyTorch won’t know to compute gradients for learning.\n",
        "\n",
        "* Typical training loop (conceptually):\n",
        "  - optimizer.zero_grad() → clear old gradients.\n",
        "  - y_pred = model(x) → forward pass (creates computation graph).\n",
        "  - loss = loss_fn(y_pred, y_true) → calculate loss.\n",
        "  - loss.backward() → compute gradients via backpropagation.\n",
        "  - optimizer.step() → update parameters using gradients.\n",
        "\n",
        "* During inference (prediction time):\n",
        "  - We don’t need gradients.\n",
        "  - So we use torch.no_grad() to turn off gradient tracking:\n",
        "      with torch.no_grad():\n",
        "          y_preds = model(x_test)\n",
        "  - This saves memory and computation because no gradient graph is built."
      ],
      "metadata": {
        "id": "VVfEbyUO7Iye"
      }
    },
    {
      "cell_type": "code",
      "source": [
        "class LinearRegressionModel(nn.Module):\n",
        "  def __init__(self):\n",
        "    super().__init__()\n",
        "    self.weights = nn.Parameter(torch.randn(1, dtype=torch.float), requires_grad=True)\n",
        "    self.bias = nn.Parameter(torch.randn(1, dtype=torch.float), requires_grad=True)\n",
        "    # to update values in gradient descent -> requires_grad=True\n",
        "    # start with random values\n",
        "\n",
        "  def forward(self, x: torch.Tensor) -> torch.Tensor: # for x input\n",
        "    return (self.weights * x) + self.bias"
      ],
      "metadata": {
        "id": "DLgnjyxx3GFV"
      },
      "execution_count": 43,
      "outputs": []
    },
    {
      "cell_type": "code",
      "source": [
        "torch.manual_seed(1)\n",
        "\n",
        "model0 = LinearRegressionModel()\n",
        "\n",
        "list(model0.parameters())"
      ],
      "metadata": {
        "colab": {
          "base_uri": "https://localhost:8080/"
        },
        "id": "TXL-YJMn48Vp",
        "outputId": "50a22bd3-def1-401b-f12b-00e244d2c5ad"
      },
      "execution_count": 44,
      "outputs": [
        {
          "output_type": "execute_result",
          "data": {
            "text/plain": [
              "[Parameter containing:\n",
              " tensor([0.6614], requires_grad=True),\n",
              " Parameter containing:\n",
              " tensor([0.2669], requires_grad=True)]"
            ]
          },
          "metadata": {},
          "execution_count": 44
        }
      ]
    },
    {
      "cell_type": "code",
      "source": [
        "model0"
      ],
      "metadata": {
        "colab": {
          "base_uri": "https://localhost:8080/"
        },
        "id": "-Kvb7IuF6ACp",
        "outputId": "f8830a8c-cb65-4a28-b601-8e00ff4564b7"
      },
      "execution_count": 45,
      "outputs": [
        {
          "output_type": "execute_result",
          "data": {
            "text/plain": [
              "LinearRegressionModel()"
            ]
          },
          "metadata": {},
          "execution_count": 45
        }
      ]
    },
    {
      "cell_type": "code",
      "source": [
        "model0.cuda"
      ],
      "metadata": {
        "colab": {
          "base_uri": "https://localhost:8080/",
          "height": 187
        },
        "id": "0vAIczbL6Ay9",
        "outputId": "41849957-8776-4e91-9ee1-a5066ee56a55"
      },
      "execution_count": 46,
      "outputs": [
        {
          "output_type": "execute_result",
          "data": {
            "text/plain": [
              "<bound method Module.cuda of LinearRegressionModel()>"
            ],
            "text/html": [
              "<div style=\"max-width:800px; border: 1px solid var(--colab-border-color);\"><style>\n",
              "      pre.function-repr-contents {\n",
              "        overflow-x: auto;\n",
              "        padding: 8px 12px;\n",
              "        max-height: 500px;\n",
              "      }\n",
              "\n",
              "      pre.function-repr-contents.function-repr-contents-collapsed {\n",
              "        cursor: pointer;\n",
              "        max-height: 100px;\n",
              "      }\n",
              "    </style>\n",
              "    <pre style=\"white-space: initial; background:\n",
              "         var(--colab-secondary-surface-color); padding: 8px 12px;\n",
              "         border-bottom: 1px solid var(--colab-border-color);\"><b>torch.nn.modules.module.Module.cuda</b><br/>def cuda(device: Optional[Union[int, device]]=None) -&gt; Self</pre><pre class=\"function-repr-contents function-repr-contents-collapsed\" style=\"\"><a class=\"filepath\" style=\"display:none\" href=\"#\">/usr/local/lib/python3.12/dist-packages/torch/nn/modules/module.py</a>Move all model parameters and buffers to the GPU.\n",
              "\n",
              "This also makes associated parameters and buffers different objects. So\n",
              "it should be called before constructing the optimizer if the module will\n",
              "live on GPU while being optimized.\n",
              "\n",
              ".. note::\n",
              "    This method modifies the module in-place.\n",
              "\n",
              "Args:\n",
              "    device (int, optional): if specified, all parameters will be\n",
              "        copied to that device\n",
              "\n",
              "Returns:\n",
              "    Module: self</pre>\n",
              "      <script>\n",
              "      if (google.colab.kernel.accessAllowed && google.colab.files && google.colab.files.view) {\n",
              "        for (const element of document.querySelectorAll('.filepath')) {\n",
              "          element.style.display = 'block'\n",
              "          element.onclick = (event) => {\n",
              "            event.preventDefault();\n",
              "            event.stopPropagation();\n",
              "            google.colab.files.view(element.textContent, 1065);\n",
              "          };\n",
              "        }\n",
              "      }\n",
              "      for (const element of document.querySelectorAll('.function-repr-contents')) {\n",
              "        element.onclick = (event) => {\n",
              "          event.preventDefault();\n",
              "          event.stopPropagation();\n",
              "          element.classList.toggle('function-repr-contents-collapsed');\n",
              "        };\n",
              "      }\n",
              "      </script>\n",
              "      </div>"
            ]
          },
          "metadata": {},
          "execution_count": 46
        }
      ]
    },
    {
      "cell_type": "code",
      "source": [
        "model0.bias"
      ],
      "metadata": {
        "colab": {
          "base_uri": "https://localhost:8080/"
        },
        "id": "TsU8FGMs6GYO",
        "outputId": "f0128182-9eb6-4c14-8a39-74979566ea82"
      },
      "execution_count": 47,
      "outputs": [
        {
          "output_type": "execute_result",
          "data": {
            "text/plain": [
              "Parameter containing:\n",
              "tensor([0.2669], requires_grad=True)"
            ]
          },
          "metadata": {},
          "execution_count": 47
        }
      ]
    },
    {
      "cell_type": "code",
      "source": [
        "model0.state_dict()"
      ],
      "metadata": {
        "colab": {
          "base_uri": "https://localhost:8080/"
        },
        "id": "oIy-_NRu6KTX",
        "outputId": "f5e9116c-60ab-41c5-b24a-e6dce7bc1364"
      },
      "execution_count": 48,
      "outputs": [
        {
          "output_type": "execute_result",
          "data": {
            "text/plain": [
              "OrderedDict([('weights', tensor([0.6614])), ('bias', tensor([0.2669]))])"
            ]
          },
          "metadata": {},
          "execution_count": 48
        }
      ]
    },
    {
      "cell_type": "markdown",
      "source": [
        "* Why model(x) and not model.predict(x)?\n",
        "    * PyTorch models are Python objects (classes) that inherit from nn.Module.\n",
        "    * nn.Module implements __call__(...) which does bookkeeping and then calls forward(...).\n",
        "    * So when you write model(x), Python invokes model.__call__(x) → that runs model.forward(x)\n",
        "\n",
        "      What: Python-level function call gets redirected to your forward method.\n",
        "\n",
        "      Why: this design allows PyTorch to do extra work around the forward pass (hooks, pre/post processing, modules handling, device management) automatically.\n",
        "\n",
        "* What exactly happens when you call model(x)?\n",
        "    * Step 1: model.__call__(x) runs — this method is provided by nn.Module.\n",
        "    * Step 2: __call__ runs any registered forward-pre hooks (if any).\n",
        "    * Step 3: __call__ calls forward(x) — your implementation of the computation.\n",
        "    * Step 4: forward(x) executes tensor operations (multiplication, addition, activations, etc.).\n",
        "    * Step 5: The sequence of tensor operations builds a computational graph tracked by Autograd if any tensor.requires_grad is True.\n",
        "    * Step 6: __call__ runs any forward-post hooks and returns the output tensor.\n",
        "\n",
        "      What: every tensor op remembers how it was computed so gradients can be traced back later.\n",
        "\n",
        "      Why: Autograd needs that graph to compute derivatives during backpropagation.\n",
        "\n",
        "* Why we rely on forward and not a separate predict by default:\n",
        "    * Flexibility — forward can do anything: multiple inputs, conditionals, custom behavior.\n",
        "    * Hooks & internals — __call__ integrates hooks, device transfers, and module-level behaviors before/after forward.\n",
        "    * Simplicity — calling the model like a function is cleaner and more natural in Python.\n",
        "      If you want a predict wrapper, you can easily add one that disables gradient tracking.\n",
        "\n",
        "* Computational graph and gradients — kya ho raha hai under the hood:\n",
        "    * Tensors with requires_grad=True record all operations that produce new tensors.\n",
        "    * Each operation creates nodes in a computational graph linking parent tensors.\n",
        "    * When you call loss.backward(), Autograd walks the graph backward and computes d(loss)/d(param) for each trainable parameter.\n",
        "    * These derivatives are stored in param.grad and later used by the optimizer.\n",
        "\n",
        "      Why: gradients tell the optimizer how to tweak parameters to make predictions more accurate.\n",
        "\n",
        "* Typical training loop (step-by-step explanation):\n",
        "    * 1) model = LinearRegressionModel0()  \n",
        "          creates model parameters (weights & bias)\n",
        "    * 2) optimizer = torch.optim.SGD(model.parameters(), lr=0.01)  \n",
        "          sets up gradient descent with a learning rate\n",
        "    * 3) for each batch:\n",
        "\n",
        "          a) optimizer.zero_grad()  \n",
        "            clears old gradients (they accumulate by default)\n",
        "\n",
        "          b) y_pred = model(x)  \n",
        "            forward pass — builds the computation graph\n",
        "\n",
        "          c) loss = loss_fn(y_pred, y_true)  \n",
        "            compares prediction with ground truth\n",
        "\n",
        "          d) loss.backward()  \n",
        "            backpropagates errors — computes gradients\n",
        "\n",
        "          e) optimizer.step()  \n",
        "            updates weights and bias using gradients\n",
        "\n",
        "          What:\n",
        "              forward builds predictions & computation graph\n",
        "              backward finds how each parameter affects loss\n",
        "              step moves parameters in the right direction\n",
        "              <br>\n",
        "          Why zero_grad is needed:\n",
        "              PyTorch accumulates gradients each step — clearing avoids mixing old + new ones.\n",
        "\n",
        "* Prediction at inference time — avoid computing gradients:\n",
        "    * Use torch.no_grad() because we don’t need gradients when predicting.\n",
        "      Example:\n",
        "          with torch.no_grad():\n",
        "              y_preds = model(x_val)\n",
        "              \n",
        "      What: Autograd tracking is turned off — saves memory and speeds up inference.\n",
        "\n",
        "      Why: gradients are only needed while training; computing them during prediction is wasteful.\n",
        "\n",
        "* What requires_grad=True on parameters does:\n",
        "    * Tells PyTorch to track all ops involving those tensors.\n",
        "    * During forward, ops are recorded in a graph.\n",
        "    * During backward, gradients are calculated and stored in .grad.\n",
        "    \n",
        "      Why: so optimizer knows how much to change each parameter."
      ],
      "metadata": {
        "id": "KMsXnLoV9Fqq"
      }
    },
    {
      "cell_type": "code",
      "source": [
        "# make predictions using model0\n",
        "\n",
        "with torch.inference_mode():\n",
        "  y_preds0 = model0(X_test)"
      ],
      "metadata": {
        "id": "rnSfZqFz6Sj3"
      },
      "execution_count": 49,
      "outputs": []
    },
    {
      "cell_type": "code",
      "source": [
        "y_preds0"
      ],
      "metadata": {
        "colab": {
          "base_uri": "https://localhost:8080/"
        },
        "id": "6tVTXH2c72IZ",
        "outputId": "775a53cf-c0d3-4e0b-c150-2b85ebdc5bb6"
      },
      "execution_count": 50,
      "outputs": [
        {
          "output_type": "execute_result",
          "data": {
            "text/plain": [
              "tensor([[53.8365],\n",
              "        [54.4978],\n",
              "        [55.1592],\n",
              "        [55.8205],\n",
              "        [56.4819],\n",
              "        [57.1432],\n",
              "        [57.8046],\n",
              "        [58.4659],\n",
              "        [59.1273],\n",
              "        [59.7886],\n",
              "        [60.4500],\n",
              "        [61.1113],\n",
              "        [61.7727],\n",
              "        [62.4340],\n",
              "        [63.0954],\n",
              "        [63.7567],\n",
              "        [64.4181],\n",
              "        [65.0794],\n",
              "        [65.7408],\n",
              "        [66.4021]])"
            ]
          },
          "metadata": {},
          "execution_count": 50
        }
      ]
    },
    {
      "cell_type": "code",
      "source": [
        "plot_predictions(X_train, y_train, X_test, y_test, y_preds0)"
      ],
      "metadata": {
        "colab": {
          "base_uri": "https://localhost:8080/",
          "height": 676
        },
        "id": "CKXFQyLY8AIW",
        "outputId": "0b000038-13cd-4504-ffda-425ed1fe68a0"
      },
      "execution_count": 51,
      "outputs": [
        {
          "output_type": "display_data",
          "data": {
            "text/plain": [
              "<Figure size 1200x800 with 1 Axes>"
            ],
            "image/png": "[encoded data removed]"
          },
          "metadata": {}
        }
      ]
    },
    {
      "cell_type": "code",
      "source": [
        "y_test - y_preds0"
      ],
      "metadata": {
        "colab": {
          "base_uri": "https://localhost:8080/"
        },
        "id": "kSJO6p-B8HD3",
        "outputId": "fb4d8055-6678-441f-bede-263586acb9dc"
      },
      "execution_count": 52,
      "outputs": [
        {
          "output_type": "execute_result",
          "data": {
            "text/plain": [
              "tensor([[28.1635],\n",
              "        [28.5022],\n",
              "        [28.8408],\n",
              "        [29.1795],\n",
              "        [29.5181],\n",
              "        [29.8568],\n",
              "        [30.1954],\n",
              "        [30.5341],\n",
              "        [30.8727],\n",
              "        [31.2114],\n",
              "        [31.5500],\n",
              "        [31.8887],\n",
              "        [32.2273],\n",
              "        [32.5660],\n",
              "        [32.9046],\n",
              "        [33.2433],\n",
              "        [33.5819],\n",
              "        [33.9206],\n",
              "        [34.2592],\n",
              "        [34.5979]])"
            ]
          },
          "metadata": {},
          "execution_count": 52
        }
      ]
    },
    {
      "cell_type": "markdown",
      "source": [
        "## 3. Train Model"
      ],
      "metadata": {
        "id": "2yy8-E6t-Kia"
      }
    },
    {
      "cell_type": "code",
      "source": [
        "loss_fn = nn.L1Loss() # MAE loss is same as L1Loss\n",
        "optimizer = torch.optim.SGD(params=model0.parameters(), lr=0.001)"
      ],
      "metadata": {
        "id": "NsLfoqv5-IEj"
      },
      "execution_count": 53,
      "outputs": []
    },
    {
      "cell_type": "code",
      "source": [
        "loss_fn"
      ],
      "metadata": {
        "colab": {
          "base_uri": "https://localhost:8080/"
        },
        "id": "o2Cyf2Sj-T4W",
        "outputId": "8dc26ac1-09e2-4da7-e452-446d035e0b64"
      },
      "execution_count": 54,
      "outputs": [
        {
          "output_type": "execute_result",
          "data": {
            "text/plain": [
              "L1Loss()"
            ]
          },
          "metadata": {},
          "execution_count": 54
        }
      ]
    },
    {
      "cell_type": "code",
      "source": [
        "optimizer"
      ],
      "metadata": {
        "colab": {
          "base_uri": "https://localhost:8080/"
        },
        "id": "NdspThm5-UZP",
        "outputId": "b2b352f5-d51b-4a32-9084-e4deaa0246f2"
      },
      "execution_count": 55,
      "outputs": [
        {
          "output_type": "execute_result",
          "data": {
            "text/plain": [
              "SGD (\n",
              "Parameter Group 0\n",
              "    dampening: 0\n",
              "    differentiable: False\n",
              "    foreach: None\n",
              "    fused: None\n",
              "    lr: 0.001\n",
              "    maximize: False\n",
              "    momentum: 0\n",
              "    nesterov: False\n",
              "    weight_decay: 0\n",
              ")"
            ]
          },
          "metadata": {},
          "execution_count": 55
        }
      ]
    },
    {
      "cell_type": "code",
      "source": [
        "torch.manual_seed(1)\n",
        "\n",
        "epochs = 8\n",
        "\n",
        "train_loss_values = []\n",
        "test_loss_values = []\n",
        "epoch_count = []\n",
        "\n",
        "for epoch in range(epochs):\n",
        "  model0.train()\n",
        "\n",
        "  y_preds = model0(X_train)\n",
        "  loss = loss_fn(y_preds, y_train.float())\n",
        "\n",
        "  optimizer.zero_grad()\n",
        "  loss.backward()\n",
        "  optimizer.step()\n",
        "\n",
        "  model0.eval()\n",
        "  with torch.inference_mode():  # or torch.no_grad()\n",
        "    test_preds = model0(X_test)\n",
        "    test_loss = loss_fn(test_preds, y_test.float())\n",
        "\n",
        "  epoch_count.append(epoch)\n",
        "  train_loss_values.append(loss.item())  # convert to float\n",
        "  test_loss_values.append(test_loss.item())\n",
        "\n",
        "  print(f\"Epoch: {epoch} \\t MAE Train Loss: {loss.item():.4f} \\t MAE Test Loss: {test_loss.item():.4f}\")"
      ],
      "metadata": {
        "colab": {
          "base_uri": "https://localhost:8080/"
        },
        "id": "FXSU0jWI-UwC",
        "outputId": "e42c5571-2190-45c6-afdd-77b11a2fc105"
      },
      "execution_count": 56,
      "outputs": [
        {
          "output_type": "stream",
          "name": "stdout",
          "text": [
            "Epoch: 0 \t MAE Train Loss: 14.4483 \t MAE Test Loss: 27.7145\n",
            "Epoch: 1 \t MAE Train Loss: 12.8071 \t MAE Test Loss: 24.0482\n",
            "Epoch: 2 \t MAE Train Loss: 11.1658 \t MAE Test Loss: 20.3820\n",
            "Epoch: 3 \t MAE Train Loss: 9.5246 \t MAE Test Loss: 16.7157\n",
            "Epoch: 4 \t MAE Train Loss: 7.8833 \t MAE Test Loss: 13.0495\n",
            "Epoch: 5 \t MAE Train Loss: 6.2421 \t MAE Test Loss: 9.3832\n",
            "Epoch: 6 \t MAE Train Loss: 4.6008 \t MAE Test Loss: 5.7170\n",
            "Epoch: 7 \t MAE Train Loss: 2.9596 \t MAE Test Loss: 2.0507\n"
          ]
        }
      ]
    },
    {
      "cell_type": "code",
      "source": [
        "plt.plot(epoch_count, train_loss_values, label=\"Train Loss\")\n",
        "plt.plot(epoch_count, test_loss_values, label=\"Test Loss\")\n",
        "plt.title(\"Training and test loss curves\")\n",
        "plt.ylabel(\"Loss\")\n",
        "plt.xlabel(\"Epochs\")\n",
        "plt.legend();"
      ],
      "metadata": {
        "colab": {
          "base_uri": "https://localhost:8080/",
          "height": 472
        },
        "id": "1DWnzIml-cIx",
        "outputId": "273969c3-8646-4b0a-bb89-c69700133d02"
      },
      "execution_count": 57,
      "outputs": [
        {
          "output_type": "display_data",
          "data": {
            "text/plain": [
              "<Figure size 640x480 with 1 Axes>"
            ],
            "image/png": "[encoded data removed]"
          },
          "metadata": {}
        }
      ]
    },
    {
      "cell_type": "code",
      "source": [
        "model0.state_dict()"
      ],
      "metadata": {
        "colab": {
          "base_uri": "https://localhost:8080/"
        },
        "id": "72qnXzklAQ_7",
        "outputId": "f4a39475-9ff1-480a-b644-3185ec8295e8"
      },
      "execution_count": 58,
      "outputs": [
        {
          "output_type": "execute_result",
          "data": {
            "text/plain": [
              "OrderedDict([('weights', tensor([0.9854])), ('bias', tensor([0.2749]))])"
            ]
          },
          "metadata": {},
          "execution_count": 58
        }
      ]
    },
    {
      "cell_type": "code",
      "source": [
        "weight, bias"
      ],
      "metadata": {
        "colab": {
          "base_uri": "https://localhost:8080/"
        },
        "id": "aYyiCzroAVdF",
        "outputId": "344f3e27-bbea-47a0-a85e-08a458bfe745"
      },
      "execution_count": 59,
      "outputs": [
        {
          "output_type": "execute_result",
          "data": {
            "text/plain": [
              "(1, 1)"
            ]
          },
          "metadata": {},
          "execution_count": 59
        }
      ]
    },
    {
      "cell_type": "code",
      "source": [
        "print(\"The model learned the following values for weights and bias:\")\n",
        "print(model0.state_dict())\n",
        "print(\"\\nAnd the original values for weights and bias are:\")\n",
        "print(f\"weights: {weight}, bias: {bias}\")"
      ],
      "metadata": {
        "colab": {
          "base_uri": "https://localhost:8080/"
        },
        "id": "9FGY5PJCAXhY",
        "outputId": "e6f6ff1c-e959-4857-ed54-a8c3b8e5a57b"
      },
      "execution_count": 60,
      "outputs": [
        {
          "output_type": "stream",
          "name": "stdout",
          "text": [
            "The model learned the following values for weights and bias:\n",
            "OrderedDict({'weights': tensor([0.9854]), 'bias': tensor([0.2749])})\n",
            "\n",
            "And the original values for weights and bias are:\n",
            "weights: 1, bias: 1\n"
          ]
        }
      ]
    },
    {
      "cell_type": "markdown",
      "source": [
        "## 4. Make Predictions with Model"
      ],
      "metadata": {
        "id": "aYv3NQlmAdi-"
      }
    },
    {
      "cell_type": "code",
      "source": [
        "model0.eval()\n",
        "\n",
        "with torch.inference_mode():\n",
        "  # Make sure the calculations are done with the model and data on the same device\n",
        "  # in our case, we haven't setup device-agnostic code yet so our data and model are\n",
        "  # on the CPU by default.\n",
        "  # model_0.to(device)\n",
        "  # X_test = X_test.to(device)\n",
        "  y_preds = model0(X_test)\n",
        "y_preds"
      ],
      "metadata": {
        "colab": {
          "base_uri": "https://localhost:8080/"
        },
        "id": "W-PgupDdAaTc",
        "outputId": "1e30e74d-5f0a-42bd-994d-c5905ee2f67b"
      },
      "execution_count": 61,
      "outputs": [
        {
          "output_type": "execute_result",
          "data": {
            "text/plain": [
              "tensor([[80.0884],\n",
              "        [81.0738],\n",
              "        [82.0591],\n",
              "        [83.0445],\n",
              "        [84.0298],\n",
              "        [85.0152],\n",
              "        [86.0005],\n",
              "        [86.9859],\n",
              "        [87.9713],\n",
              "        [88.9566],\n",
              "        [89.9420],\n",
              "        [90.9273],\n",
              "        [91.9127],\n",
              "        [92.8980],\n",
              "        [93.8834],\n",
              "        [94.8687],\n",
              "        [95.8541],\n",
              "        [96.8394],\n",
              "        [97.8248],\n",
              "        [98.8101]])"
            ]
          },
          "metadata": {},
          "execution_count": 61
        }
      ]
    },
    {
      "cell_type": "code",
      "source": [
        "plot_predictions(y_preds=y_preds)"
      ],
      "metadata": {
        "colab": {
          "base_uri": "https://localhost:8080/",
          "height": 676
        },
        "id": "agQVNGyqAqfP",
        "outputId": "b9221768-b811-4bdc-f65f-7bff4fbe3112"
      },
      "execution_count": 62,
      "outputs": [
        {
          "output_type": "display_data",
          "data": {
            "text/plain": [
              "<Figure size 1200x800 with 1 Axes>"
            ],
            "image/png": "[encoded data removed]"
          },
          "metadata": {}
        }
      ]
    },
    {
      "cell_type": "markdown",
      "source": [
        "## 5. Saving the model"
      ],
      "metadata": {
        "id": "dV1-7YEVBbAo"
      }
    },
    {
      "cell_type": "code",
      "source": [
        "from pathlib import Path\n",
        "\n",
        "MODEL_PATH = Path(\"models\")\n",
        "MODEL_PATH.mkdir(parents=True, exist_ok=True)\n",
        "\n",
        "MODEL_NAME = \"01_model.pth\"\n",
        "MODEL_SAVE_PATH = MODEL_PATH / MODEL_NAME\n",
        "\n",
        "print(f\"Saving model to: {MODEL_SAVE_PATH}\")\n",
        "torch.save(obj=model0.state_dict(), # only saving the state_dict() only saves the models learned parameters\n",
        "           f=MODEL_SAVE_PATH)"
      ],
      "metadata": {
        "colab": {
          "base_uri": "https://localhost:8080/"
        },
        "id": "gaU62wOyA7aH",
        "outputId": "17b43f1d-e541-455b-c88d-0fe002dcd9fd"
      },
      "execution_count": 63,
      "outputs": [
        {
          "output_type": "stream",
          "name": "stdout",
          "text": [
            "Saving model to: models/01_model.pth\n"
          ]
        }
      ]
    },
    {
      "cell_type": "markdown",
      "source": [
        "## 6. Loading saved model"
      ],
      "metadata": {
        "id": "f8SpROLqB4s7"
      }
    },
    {
      "cell_type": "code",
      "source": [
        "loaded_model0 = LinearRegressionModel()\n",
        "\n",
        "loaded_model0.load_state_dict(torch.load(f=MODEL_SAVE_PATH))"
      ],
      "metadata": {
        "colab": {
          "base_uri": "https://localhost:8080/"
        },
        "id": "CHKFIrJVBpIp",
        "outputId": "30f49439-8dcb-4935-e736-1c178810386a"
      },
      "execution_count": 64,
      "outputs": [
        {
          "output_type": "execute_result",
          "data": {
            "text/plain": [
              "<All keys matched successfully>"
            ]
          },
          "metadata": {},
          "execution_count": 64
        }
      ]
    },
    {
      "cell_type": "code",
      "source": [
        "loaded_model0.eval()\n",
        "\n",
        "with torch.inference_mode():\n",
        "  loaded_model_preds = loaded_model0(X_test)"
      ],
      "metadata": {
        "id": "QoNH6DKyB8xl"
      },
      "execution_count": 65,
      "outputs": []
    },
    {
      "cell_type": "code",
      "source": [
        "len(loaded_model_preds)"
      ],
      "metadata": {
        "colab": {
          "base_uri": "https://localhost:8080/"
        },
        "id": "HFUsSJExCKNQ",
        "outputId": "25652e2f-d316-488a-eb60-73f8f13f13d8"
      },
      "execution_count": 66,
      "outputs": [
        {
          "output_type": "execute_result",
          "data": {
            "text/plain": [
              "20"
            ]
          },
          "metadata": {},
          "execution_count": 66
        }
      ]
    },
    {
      "cell_type": "code",
      "source": [
        "plot_predictions(y_preds=loaded_model_preds)"
      ],
      "metadata": {
        "colab": {
          "base_uri": "https://localhost:8080/",
          "height": 676
        },
        "id": "WdcC2fesCC1f",
        "outputId": "9155b105-54f5-48c1-8117-8d92f3b7bd84"
      },
      "execution_count": 67,
      "outputs": [
        {
          "output_type": "display_data",
          "data": {
            "text/plain": [
              "<Figure size 1200x800 with 1 Axes>"
            ],
            "image/png": "[encoded data removed]"
          },
          "metadata": {}
        }
      ]
    },
    {
      "cell_type": "markdown",
      "source": [
        "# Implementing all steps (1 - 6)"
      ],
      "metadata": {
        "id": "SfvZkObf5x4X"
      }
    },
    {
      "cell_type": "code",
      "source": [
        "device = \"cuda\" if torch.cuda.is_available() else \"cpu\"\n",
        "device"
      ],
      "metadata": {
        "colab": {
          "base_uri": "https://localhost:8080/",
          "height": 35
        },
        "id": "6ypzSncx50Ue",
        "outputId": "2ab62567-57e9-43fd-a9c6-e73606c176e3"
      },
      "execution_count": 491,
      "outputs": [
        {
          "output_type": "execute_result",
          "data": {
            "text/plain": [
              "'cpu'"
            ],
            "application/vnd.google.colaboratory.intrinsic+json": {
              "type": "string"
            }
          },
          "metadata": {},
          "execution_count": 491
        }
      ]
    },
    {
      "cell_type": "code",
      "source": [
        "weight = 1.0\n",
        "bias = 2.0"
      ],
      "metadata": {
        "id": "xVUwKzEA6B9h"
      },
      "execution_count": 492,
      "outputs": []
    },
    {
      "cell_type": "code",
      "source": [
        "X = torch.arange(1, 301, 2).unsqueeze(1).float()  # shape (150,1)\n",
        "y = (weight * X) + bias"
      ],
      "metadata": {
        "id": "AP1k8Y9D6dsA"
      },
      "execution_count": 493,
      "outputs": []
    },
    {
      "cell_type": "code",
      "source": [
        "X[:5]"
      ],
      "metadata": {
        "colab": {
          "base_uri": "https://localhost:8080/"
        },
        "id": "BOq8bxw36nzd",
        "outputId": "50fe8e4d-4b2e-45c2-c40b-965225d6043d"
      },
      "execution_count": 494,
      "outputs": [
        {
          "output_type": "execute_result",
          "data": {
            "text/plain": [
              "tensor([[1.],\n",
              "        [3.],\n",
              "        [5.],\n",
              "        [7.],\n",
              "        [9.]])"
            ]
          },
          "metadata": {},
          "execution_count": 494
        }
      ]
    },
    {
      "cell_type": "code",
      "source": [
        "y[:5]"
      ],
      "metadata": {
        "colab": {
          "base_uri": "https://localhost:8080/"
        },
        "id": "t_oQyFSj6n8y",
        "outputId": "8ca39638-d9dd-4c73-e16b-499ce3c4b49b"
      },
      "execution_count": 495,
      "outputs": [
        {
          "output_type": "execute_result",
          "data": {
            "text/plain": [
              "tensor([[ 3.],\n",
              "        [ 5.],\n",
              "        [ 7.],\n",
              "        [ 9.],\n",
              "        [11.]])"
            ]
          },
          "metadata": {},
          "execution_count": 495
        }
      ]
    },
    {
      "cell_type": "code",
      "source": [
        "len(X), len(y)"
      ],
      "metadata": {
        "colab": {
          "base_uri": "https://localhost:8080/"
        },
        "id": "ztCTqHfx6oIo",
        "outputId": "77898fef-2615-4e6c-8203-08f1bcbca6a6"
      },
      "execution_count": 496,
      "outputs": [
        {
          "output_type": "execute_result",
          "data": {
            "text/plain": [
              "(150, 150)"
            ]
          },
          "metadata": {},
          "execution_count": 496
        }
      ]
    },
    {
      "cell_type": "code",
      "source": [
        "train_split_size = int(0.8 * len(X))\n",
        "train_split_size"
      ],
      "metadata": {
        "colab": {
          "base_uri": "https://localhost:8080/"
        },
        "id": "BTdnpGH86rTC",
        "outputId": "c10985bc-1785-4357-d38c-cd58cbc3c801"
      },
      "execution_count": 497,
      "outputs": [
        {
          "output_type": "execute_result",
          "data": {
            "text/plain": [
              "120"
            ]
          },
          "metadata": {},
          "execution_count": 497
        }
      ]
    },
    {
      "cell_type": "code",
      "source": [
        "train_split_size = int(0.8 * len(X))\n",
        "X_train, X_test = X[:train_split_size], X[train_split_size:]\n",
        "y_train, y_test = y[:train_split_size], y[train_split_size:]"
      ],
      "metadata": {
        "id": "uVNTxL506u2r"
      },
      "execution_count": 498,
      "outputs": []
    },
    {
      "cell_type": "code",
      "source": [
        "len(X_train), len(X_test)"
      ],
      "metadata": {
        "colab": {
          "base_uri": "https://localhost:8080/"
        },
        "id": "sRxbyKAS66-1",
        "outputId": "c497ac6c-7b99-4f95-fa70-7a2964e5eaf6"
      },
      "execution_count": 499,
      "outputs": [
        {
          "output_type": "execute_result",
          "data": {
            "text/plain": [
              "(120, 30)"
            ]
          },
          "metadata": {},
          "execution_count": 499
        }
      ]
    },
    {
      "cell_type": "code",
      "source": [
        "plot_predictions(X_train, y_train, X_test, y_test)"
      ],
      "metadata": {
        "colab": {
          "base_uri": "https://localhost:8080/",
          "height": 595
        },
        "id": "SuGmy-Db69FV",
        "outputId": "a76eb61d-18c7-48e9-9212-79a6d8b4432e"
      },
      "execution_count": 500,
      "outputs": [
        {
          "output_type": "display_data",
          "data": {
            "text/plain": [
              "<Figure size 1200x800 with 1 Axes>"
            ],
            "image/png": "[encoded data removed]"
          },
          "metadata": {}
        }
      ]
    },
    {
      "cell_type": "code",
      "source": [
        "class LinearRegression(nn.Module):\n",
        "  def __init__(self):\n",
        "    super().__init__()\n",
        "    self.linear_layer = nn.Linear(1, 1)\n",
        "\n",
        "  def forward(self, x):\n",
        "    return self.linear_layer(x)"
      ],
      "metadata": {
        "id": "Y8GxriJm7QYI"
      },
      "execution_count": 501,
      "outputs": []
    },
    {
      "cell_type": "code",
      "source": [
        "torch.manual_seed(1)\n",
        "model = LinearRegression().to(device)"
      ],
      "metadata": {
        "id": "kTrQ7ilF7wSq"
      },
      "execution_count": 502,
      "outputs": []
    },
    {
      "cell_type": "code",
      "source": [
        "optimizer = torch.optim.Adam(model.parameters(), lr=1e-3)\n",
        "loss_fn = nn.L1Loss(reduction='mean')"
      ],
      "metadata": {
        "id": "rzmRD8Ls7xjW"
      },
      "execution_count": 503,
      "outputs": []
    },
    {
      "cell_type": "code",
      "source": [
        "X_train = X_train.to(device)\n",
        "X_test  = X_test.to(device)\n",
        "y_train = y_train.to(device)\n",
        "y_test  = y_test.to(device)"
      ],
      "metadata": {
        "id": "tJIby9HM71Lp"
      },
      "execution_count": 504,
      "outputs": []
    },
    {
      "cell_type": "code",
      "source": [
        "model.to(device)"
      ],
      "metadata": {
        "colab": {
          "base_uri": "https://localhost:8080/"
        },
        "id": "HTM5btezAefK",
        "outputId": "050dbea2-c73b-48e7-fc24-fd4b3e555eb2"
      },
      "execution_count": 505,
      "outputs": [
        {
          "output_type": "execute_result",
          "data": {
            "text/plain": [
              "LinearRegression(\n",
              "  (linear_layer): Linear(in_features=1, out_features=1, bias=True)\n",
              ")"
            ]
          },
          "metadata": {},
          "execution_count": 505
        }
      ]
    },
    {
      "cell_type": "code",
      "source": [
        "next(model.parameters()).device"
      ],
      "metadata": {
        "colab": {
          "base_uri": "https://localhost:8080/"
        },
        "id": "kOyOceeXAs-4",
        "outputId": "3c49a5cf-4e36-4c27-dd90-70cbdac3c6b4"
      },
      "execution_count": 506,
      "outputs": [
        {
          "output_type": "execute_result",
          "data": {
            "text/plain": [
              "device(type='cpu')"
            ]
          },
          "metadata": {},
          "execution_count": 506
        }
      ]
    },
    {
      "cell_type": "code",
      "source": [
        "torch.manual_seed(1)\n",
        "\n",
        "epochs = 2001\n",
        "\n",
        "X_train = X_train.to(device).float()\n",
        "X_test = X_test.to(device).float()\n",
        "y_train = y_train.to(device).float()\n",
        "y_test = y_test.to(device).float()\n",
        "\n",
        "train_loss_values = []\n",
        "test_loss_values = []\n",
        "epoch_count = []\n",
        "\n",
        "for epoch in range(epochs):\n",
        "  model.train()\n",
        "\n",
        "  y_preds = model(X_train)\n",
        "  loss = loss_fn(y_preds, y_train)\n",
        "\n",
        "  optimizer.zero_grad()\n",
        "\n",
        "  loss.backward()\n",
        "\n",
        "  optimizer.step()\n",
        "\n",
        "  model.eval()\n",
        "\n",
        "  with torch.inference_mode():\n",
        "    test_preds = model(X_test)\n",
        "    test_loss = loss_fn(test_preds, y_test)\n",
        "\n",
        "  if epoch % 50 == 0:\n",
        "    print(f\"Epoch: {epoch} \\t MAE Train Loss: {loss.item():.4f} \\t MAE Test Loss: {test_loss.item():.4f}\")\n",
        "\n",
        "  train_loss_values.append(loss.detach())\n",
        "  test_loss_values.append(test_loss.detach())\n",
        "  epoch_count.append(epoch)"
      ],
      "metadata": {
        "colab": {
          "base_uri": "https://localhost:8080/"
        },
        "id": "4kQE12L5Ffd4",
        "outputId": "2f1d11b6-2d3b-4e2f-9b22-4c905f605adc"
      },
      "execution_count": 507,
      "outputs": [
        {
          "output_type": "stream",
          "name": "stdout",
          "text": [
            "Epoch: 0 \t MAE Train Loss: 60.6098 \t MAE Test Loss: 133.0493\n",
            "Epoch: 50 \t MAE Train Loss: 54.5599 \t MAE Test Loss: 119.4995\n",
            "Epoch: 100 \t MAE Train Loss: 48.5100 \t MAE Test Loss: 105.9497\n",
            "Epoch: 150 \t MAE Train Loss: 42.4600 \t MAE Test Loss: 92.3998\n",
            "Epoch: 200 \t MAE Train Loss: 36.4101 \t MAE Test Loss: 78.8500\n",
            "Epoch: 250 \t MAE Train Loss: 30.3602 \t MAE Test Loss: 65.3002\n",
            "Epoch: 300 \t MAE Train Loss: 24.3103 \t MAE Test Loss: 51.7504\n",
            "Epoch: 350 \t MAE Train Loss: 18.2603 \t MAE Test Loss: 38.2005\n",
            "Epoch: 400 \t MAE Train Loss: 12.2104 \t MAE Test Loss: 24.6507\n",
            "Epoch: 450 \t MAE Train Loss: 6.1605 \t MAE Test Loss: 11.1009\n",
            "Epoch: 500 \t MAE Train Loss: 0.8511 \t MAE Test Loss: 1.8959\n",
            "Epoch: 550 \t MAE Train Loss: 0.7969 \t MAE Test Loss: 1.1530\n",
            "Epoch: 600 \t MAE Train Loss: 0.7877 \t MAE Test Loss: 1.1196\n",
            "Epoch: 650 \t MAE Train Loss: 0.7779 \t MAE Test Loss: 1.1219\n",
            "Epoch: 700 \t MAE Train Loss: 0.7678 \t MAE Test Loss: 1.1068\n",
            "Epoch: 750 \t MAE Train Loss: 0.7573 \t MAE Test Loss: 1.0920\n",
            "Epoch: 800 \t MAE Train Loss: 0.7465 \t MAE Test Loss: 1.0763\n",
            "Epoch: 850 \t MAE Train Loss: 0.7353 \t MAE Test Loss: 1.0605\n",
            "Epoch: 900 \t MAE Train Loss: 0.7237 \t MAE Test Loss: 1.0424\n",
            "Epoch: 950 \t MAE Train Loss: 0.7118 \t MAE Test Loss: 1.0265\n",
            "Epoch: 1000 \t MAE Train Loss: 0.6996 \t MAE Test Loss: 1.0094\n",
            "Epoch: 1050 \t MAE Train Loss: 0.6870 \t MAE Test Loss: 0.9902\n",
            "Epoch: 1100 \t MAE Train Loss: 0.6742 \t MAE Test Loss: 0.9725\n",
            "Epoch: 1150 \t MAE Train Loss: 0.6610 \t MAE Test Loss: 0.9525\n",
            "Epoch: 1200 \t MAE Train Loss: 0.6476 \t MAE Test Loss: 0.9346\n",
            "Epoch: 1250 \t MAE Train Loss: 0.6339 \t MAE Test Loss: 0.9143\n",
            "Epoch: 1300 \t MAE Train Loss: 0.6199 \t MAE Test Loss: 0.8931\n",
            "Epoch: 1350 \t MAE Train Loss: 0.6057 \t MAE Test Loss: 0.8738\n",
            "Epoch: 1400 \t MAE Train Loss: 0.5912 \t MAE Test Loss: 0.8491\n",
            "Epoch: 1450 \t MAE Train Loss: 0.5765 \t MAE Test Loss: 0.8315\n",
            "Epoch: 1500 \t MAE Train Loss: 0.5615 \t MAE Test Loss: 0.8097\n",
            "Epoch: 1550 \t MAE Train Loss: 0.5463 \t MAE Test Loss: 0.7847\n",
            "Epoch: 1600 \t MAE Train Loss: 0.5309 \t MAE Test Loss: 0.7657\n",
            "Epoch: 1650 \t MAE Train Loss: 0.5153 \t MAE Test Loss: 0.7419\n",
            "Epoch: 1700 \t MAE Train Loss: 0.4994 \t MAE Test Loss: 0.7173\n",
            "Epoch: 1750 \t MAE Train Loss: 0.4834 \t MAE Test Loss: 0.6952\n",
            "Epoch: 1800 \t MAE Train Loss: 0.4672 \t MAE Test Loss: 0.6734\n",
            "Epoch: 1850 \t MAE Train Loss: 0.4508 \t MAE Test Loss: 0.6484\n",
            "Epoch: 1900 \t MAE Train Loss: 0.4342 \t MAE Test Loss: 0.6252\n",
            "Epoch: 1950 \t MAE Train Loss: 0.4174 \t MAE Test Loss: 0.6014\n",
            "Epoch: 2000 \t MAE Train Loss: 0.4005 \t MAE Test Loss: 0.5764\n"
          ]
        }
      ]
    },
    {
      "cell_type": "code",
      "source": [
        "from pprint import pprint\n",
        "print(\"The model learned the following values for weights and bias:\")\n",
        "pprint(model.state_dict())\n",
        "print(\"\\nAnd the original values for weights and bias are:\")\n",
        "print(f\"weights: {weight}, bias: {bias}\")"
      ],
      "metadata": {
        "colab": {
          "base_uri": "https://localhost:8080/"
        },
        "id": "PovFFSidCYGa",
        "outputId": "f0fb7d7e-440e-4c7e-c3ce-4bbda109dd1c"
      },
      "execution_count": 508,
      "outputs": [
        {
          "output_type": "stream",
          "name": "stdout",
          "text": [
            "The model learned the following values for weights and bias:\n",
            "OrderedDict([('linear_layer.weight', tensor([[1.0057]])),\n",
            "             ('linear_layer.bias', tensor([1.0340]))])\n",
            "\n",
            "And the original values for weights and bias are:\n",
            "weights: 1.0, bias: 2.0\n"
          ]
        }
      ]
    },
    {
      "cell_type": "code",
      "source": [
        "plt.plot(epoch_count, train_loss_values, label=\"Train Loss\")\n",
        "plt.plot(epoch_count, test_loss_values, label=\"Test Loss\")\n",
        "plt.title(\"Training and test loss curves\")\n",
        "plt.ylabel(\"Loss\")\n",
        "plt.xlabel(\"Epochs\")\n",
        "plt.legend();"
      ],
      "metadata": {
        "colab": {
          "base_uri": "https://localhost:8080/",
          "height": 472
        },
        "id": "9FaHMYUZFUW4",
        "outputId": "1e75ff61-e545-4306-cb34-6db02ca6e9ac"
      },
      "execution_count": 509,
      "outputs": [
        {
          "output_type": "display_data",
          "data": {
            "text/plain": [
              "<Figure size 640x480 with 1 Axes>"
            ],
            "image/png": "[encoded data removed]"
          },
          "metadata": {}
        }
      ]
    },
    {
      "cell_type": "code",
      "source": [
        "model.eval()\n",
        "\n",
        "with torch.inference_mode():\n",
        "  y_preds = model(X_test)"
      ],
      "metadata": {
        "id": "_3yNVjeRFXBT"
      },
      "execution_count": 510,
      "outputs": []
    },
    {
      "cell_type": "code",
      "source": [
        "len(y_preds)"
      ],
      "metadata": {
        "colab": {
          "base_uri": "https://localhost:8080/"
        },
        "id": "5BQtjeFkGB-Q",
        "outputId": "88ee9a8c-d02a-4dfc-a094-a552df666b10"
      },
      "execution_count": 511,
      "outputs": [
        {
          "output_type": "execute_result",
          "data": {
            "text/plain": [
              "30"
            ]
          },
          "metadata": {},
          "execution_count": 511
        }
      ]
    },
    {
      "cell_type": "code",
      "source": [
        "len(y_test)"
      ],
      "metadata": {
        "colab": {
          "base_uri": "https://localhost:8080/"
        },
        "id": "e8w06KP3GEIX",
        "outputId": "cbd41a03-eec5-4adc-e83e-a1d7c36818d9"
      },
      "execution_count": 512,
      "outputs": [
        {
          "output_type": "execute_result",
          "data": {
            "text/plain": [
              "30"
            ]
          },
          "metadata": {},
          "execution_count": 512
        }
      ]
    },
    {
      "cell_type": "code",
      "source": [
        "def plot_preds(X_train=X_train, X_test=X_test, y_train=y_train, y_test=y_test, y_preds=None):\n",
        "  plt.figure(figsize=(14, 9))\n",
        "  plt.scatter(X_train.cpu(), y_train.cpu(), c=\"b\", s=4, label=\"Training Data\")\n",
        "  plt.scatter(X_test.cpu(), y_test.cpu(), c=\"r\", s=4, label=\"Testing Data\")\n",
        "\n",
        "  if y_preds is not None and torch.is_tensor(y_preds):\n",
        "    plt.scatter(X_test.cpu(), y_preds.cpu(), c=\"#000000\", s=5, label=\"Predicted Data for Test data\")\n",
        "\n",
        "  plt.legend()\n",
        "  plt.show()"
      ],
      "metadata": {
        "id": "J4TfuzbSGIrZ"
      },
      "execution_count": 513,
      "outputs": []
    },
    {
      "cell_type": "code",
      "source": [
        "plot_preds(y_preds=y_preds)"
      ],
      "metadata": {
        "colab": {
          "base_uri": "https://localhost:8080/",
          "height": 575
        },
        "id": "aDkbtdvlHCto",
        "outputId": "1d6c5ecb-0564-4e85-f133-d08542fcccad"
      },
      "execution_count": 514,
      "outputs": [
        {
          "output_type": "display_data",
          "data": {
            "text/plain": [
              "<Figure size 1400x900 with 1 Axes>"
            ],
            "image/png": "[encoded data removed]"
          },
          "metadata": {}
        }
      ]
    },
    {
      "cell_type": "code",
      "source": [
        "y_preds - y_test"
      ],
      "metadata": {
        "colab": {
          "base_uri": "https://localhost:8080/"
        },
        "id": "7a09t7juHHuR",
        "outputId": "0487f274-74c5-4222-b5d2-9ff3bb1c2037"
      },
      "execution_count": 515,
      "outputs": [
        {
          "output_type": "execute_result",
          "data": {
            "text/plain": [
              "tensor([[0.4108],\n",
              "        [0.4222],\n",
              "        [0.4336],\n",
              "        [0.4450],\n",
              "        [0.4565],\n",
              "        [0.4679],\n",
              "        [0.4793],\n",
              "        [0.4908],\n",
              "        [0.5022],\n",
              "        [0.5136],\n",
              "        [0.5250],\n",
              "        [0.5364],\n",
              "        [0.5479],\n",
              "        [0.5593],\n",
              "        [0.5707],\n",
              "        [0.5822],\n",
              "        [0.5936],\n",
              "        [0.6050],\n",
              "        [0.6164],\n",
              "        [0.6278],\n",
              "        [0.6393],\n",
              "        [0.6507],\n",
              "        [0.6621],\n",
              "        [0.6736],\n",
              "        [0.6850],\n",
              "        [0.6964],\n",
              "        [0.7078],\n",
              "        [0.7192],\n",
              "        [0.7307],\n",
              "        [0.7421]])"
            ]
          },
          "metadata": {},
          "execution_count": 515
        }
      ]
    },
    {
      "cell_type": "code",
      "source": [
        "y_preds[-1]"
      ],
      "metadata": {
        "colab": {
          "base_uri": "https://localhost:8080/"
        },
        "id": "bGBJX2SKHPRE",
        "outputId": "eca34f78-5d96-466a-8910-716c18babd11"
      },
      "execution_count": 519,
      "outputs": [
        {
          "output_type": "execute_result",
          "data": {
            "text/plain": [
              "tensor([301.7421])"
            ]
          },
          "metadata": {},
          "execution_count": 519
        }
      ]
    },
    {
      "cell_type": "code",
      "source": [
        "y_test[-1]"
      ],
      "metadata": {
        "colab": {
          "base_uri": "https://localhost:8080/"
        },
        "id": "d33o_y3hIC-4",
        "outputId": "ace3ff70-524f-4973-b36b-a82939975f11"
      },
      "execution_count": 520,
      "outputs": [
        {
          "output_type": "execute_result",
          "data": {
            "text/plain": [
              "tensor([301.])"
            ]
          },
          "metadata": {},
          "execution_count": 520
        }
      ]
    },
    {
      "cell_type": "code",
      "source": [
        "model.state_dict()"
      ],
      "metadata": {
        "colab": {
          "base_uri": "https://localhost:8080/"
        },
        "id": "LUQnk7YiIDkW",
        "outputId": "991c5017-30b3-4a5a-ea44-e1bf27d6621c"
      },
      "execution_count": 522,
      "outputs": [
        {
          "output_type": "execute_result",
          "data": {
            "text/plain": [
              "OrderedDict([('linear_layer.weight', tensor([[1.0057]])),\n",
              "             ('linear_layer.bias', tensor([1.0340]))])"
            ]
          },
          "metadata": {},
          "execution_count": 522
        }
      ]
    },
    {
      "cell_type": "code",
      "source": [
        "X_test[-1]"
      ],
      "metadata": {
        "colab": {
          "base_uri": "https://localhost:8080/"
        },
        "id": "gN2GL1sCIJpg",
        "outputId": "68fe9d07-9056-47ef-acdc-419804420e01"
      },
      "execution_count": 523,
      "outputs": [
        {
          "output_type": "execute_result",
          "data": {
            "text/plain": [
              "tensor([299.])"
            ]
          },
          "metadata": {},
          "execution_count": 523
        }
      ]
    },
    {
      "cell_type": "code",
      "source": [
        "y_for_X_last = (weight * X_test[-1]) + bias\n",
        "y_for_X_last"
      ],
      "metadata": {
        "colab": {
          "base_uri": "https://localhost:8080/"
        },
        "id": "6XSLIjrnIMIe",
        "outputId": "52bad006-e915-4525-bf56-36b220d245ab"
      },
      "execution_count": 524,
      "outputs": [
        {
          "output_type": "execute_result",
          "data": {
            "text/plain": [
              "tensor([301.])"
            ]
          },
          "metadata": {},
          "execution_count": 524
        }
      ]
    },
    {
      "cell_type": "code",
      "source": [
        "y_test[-1]"
      ],
      "metadata": {
        "colab": {
          "base_uri": "https://localhost:8080/"
        },
        "id": "A778IRMKIUk9",
        "outputId": "5d8b018c-627b-412a-f083-a68a1e2ce03b"
      },
      "execution_count": 525,
      "outputs": [
        {
          "output_type": "execute_result",
          "data": {
            "text/plain": [
              "tensor([301.])"
            ]
          },
          "metadata": {},
          "execution_count": 525
        }
      ]
    },
    {
      "cell_type": "code",
      "source": [
        "print(\"Weight:\", model.state_dict()['linear_layer.weight'])\n",
        "print(\"Bias:\", model.state_dict()['linear_layer.bias'])"
      ],
      "metadata": {
        "colab": {
          "base_uri": "https://localhost:8080/"
        },
        "id": "-lJbcoBkInJK",
        "outputId": "dabc23db-4c12-464c-bf47-9a56ceda6331"
      },
      "execution_count": 529,
      "outputs": [
        {
          "output_type": "stream",
          "name": "stdout",
          "text": [
            "Weight: tensor([[1.0057]])\n",
            "Bias: tensor([1.0340])\n"
          ]
        }
      ]
    },
    {
      "cell_type": "code",
      "source": [
        "y_pred_for_X_last = (model.state_dict()['linear_layer.weight'] * X_test[-1]) + model.state_dict()['linear_layer.bias']"
      ],
      "metadata": {
        "id": "k6QcEY9eIpiW"
      },
      "execution_count": 530,
      "outputs": []
    },
    {
      "cell_type": "code",
      "source": [
        "y_pred_for_X_last"
      ],
      "metadata": {
        "colab": {
          "base_uri": "https://localhost:8080/"
        },
        "id": "MUyVy9mEIwP2",
        "outputId": "80ae0e0a-81c6-47a9-ddf8-1c7b8411eb1c"
      },
      "execution_count": 531,
      "outputs": [
        {
          "output_type": "execute_result",
          "data": {
            "text/plain": [
              "tensor([[301.7421]])"
            ]
          },
          "metadata": {},
          "execution_count": 531
        }
      ]
    },
    {
      "cell_type": "code",
      "source": [
        "from pathlib import Path\n",
        "\n",
        "MODEL_PATH = Path(\"models\")\n",
        "MODEL_PATH.mkdir(parents=True, exist_ok=True)\n",
        "\n",
        "MODEL_NAME = \"02_model.pth\"\n",
        "MODEL_SAVE_PATH = MODEL_PATH / MODEL_NAME\n",
        "\n",
        "torch.save(obj=model.state_dict(), f=MODEL_SAVE_PATH)"
      ],
      "metadata": {
        "id": "YjEL_9FKIw_g"
      },
      "execution_count": 532,
      "outputs": []
    },
    {
      "cell_type": "code",
      "source": [
        "loaded_model1 = LinearRegression()\n",
        "\n",
        "loaded_model1.load_state_dict(torch.load(MODEL_SAVE_PATH))\n",
        "\n",
        "loaded_model1.to(device)\n",
        "\n",
        "print(f\"Loaded model:\\n{loaded_model1}\")"
      ],
      "metadata": {
        "colab": {
          "base_uri": "https://localhost:8080/"
        },
        "id": "IRT1OQoZJWvV",
        "outputId": "a410d65b-6023-4f97-da41-873c05aeb0d1"
      },
      "execution_count": 533,
      "outputs": [
        {
          "output_type": "stream",
          "name": "stdout",
          "text": [
            "Loaded model:\n",
            "LinearRegression(\n",
            "  (linear_layer): Linear(in_features=1, out_features=1, bias=True)\n",
            ")\n"
          ]
        }
      ]
    },
    {
      "cell_type": "code",
      "source": [
        "loaded_model1.eval()\n",
        "\n",
        "with torch.inference_mode():\n",
        "  y_preds = loaded_model1(X_train)"
      ],
      "metadata": {
        "id": "d0LmVUXGJlzL"
      },
      "execution_count": 534,
      "outputs": []
    },
    {
      "cell_type": "code",
      "source": [
        "def plot_preds_of_X_train(X_train=X_train, y_train=y_train, y_preds=None):\n",
        "  plt.figure(figsize=(14, 9))\n",
        "  plt.scatter(X_train.cpu(), y_train.cpu(), c=\"b\", s=4, label=\"Training Data\")\n",
        "\n",
        "  if y_preds is not None and torch.is_tensor(y_preds):\n",
        "    plt.scatter(X_train.cpu(), y_preds.cpu(), c=\"#000000\", s=5, label=\"Predicted Data for Train data\")\n",
        "\n",
        "  plt.legend()\n",
        "  plt.show()"
      ],
      "metadata": {
        "id": "qbUqmhv6JuUO"
      },
      "execution_count": 536,
      "outputs": []
    },
    {
      "cell_type": "code",
      "source": [
        "plot_preds_of_X_train(y_preds=y_preds)"
      ],
      "metadata": {
        "colab": {
          "base_uri": "https://localhost:8080/",
          "height": 571
        },
        "id": "T4FQ7pJ8J-lE",
        "outputId": "e2d01a17-43f2-4759-c4fb-e4f7b2cb7ed0"
      },
      "execution_count": 537,
      "outputs": [
        {
          "output_type": "display_data",
          "data": {
            "text/plain": [
              "<Figure size 1400x900 with 1 Axes>"
            ],
            "image/png": "[encoded data removed]"
          },
          "metadata": {}
        }
      ]
    },
    {
      "cell_type": "markdown",
      "source": [
        "slight error can be seen"
      ],
      "metadata": {
        "id": "SiQHrWMFKFfo"
      }
    },
    {
      "cell_type": "code",
      "source": [
        "!zip -r models.zip /content/models"
      ],
      "metadata": {
        "colab": {
          "base_uri": "https://localhost:8080/"
        },
        "id": "cpI__95eKAkN",
        "outputId": "bbc82fb7-7970-4cf4-c470-50551816a9ab"
      },
      "execution_count": 538,
      "outputs": [
        {
          "output_type": "stream",
          "name": "stdout",
          "text": [
            "  adding: content/models/ (stored 0%)\n",
            "  adding: content/models/01_model.pth (deflated 63%)\n",
            "  adding: content/models/02_model.pth (deflated 63%)\n"
          ]
        }
      ]
    },
    {
      "cell_type": "code",
      "source": [
        "from google.colab import files\n",
        "files.download(\"models.zip\")"
      ],
      "metadata": {
        "colab": {
          "base_uri": "https://localhost:8080/",
          "height": 17
        },
        "id": "F9nkvcFEKhdL",
        "outputId": "c445c99c-6d34-47a4-e4da-dc4df1761c8c"
      },
      "execution_count": 539,
      "outputs": [
        {
          "output_type": "display_data",
          "data": {
            "text/plain": [
              "<IPython.core.display.Javascript object>"
            ],
            "application/javascript": [
              "\n",
              "    async function download(id, filename, size) {\n",
              "      if (!google.colab.kernel.accessAllowed) {\n",
              "        return;\n",
              "      }\n",
              "      const div = document.createElement('div');\n",
              "      const label = document.createElement('label');\n",
              "      label.textContent = `Downloading \"${filename}\": `;\n",
              "      div.appendChild(label);\n",
              "      const progress = document.createElement('progress');\n",
              "      progress.max = size;\n",
              "      div.appendChild(progress);\n",
              "      document.body.appendChild(div);\n",
              "\n",
              "      const buffers = [];\n",
              "      let downloaded = 0;\n",
              "\n",
              "      const channel = await google.colab.kernel.comms.open(id);\n",
              "      // Send a message to notify the kernel that we're ready.\n",
              "      channel.send({})\n",
              "\n",
              "      for await (const message of channel.messages) {\n",
              "        // Send a message to notify the kernel that we're ready.\n",
              "        channel.send({})\n",
              "        if (message.buffers) {\n",
              "          for (const buffer of message.buffers) {\n",
              "            buffers.push(buffer);\n",
              "            downloaded += buffer.byteLength;\n",
              "            progress.value = downloaded;\n",
              "          }\n",
              "        }\n",
              "      }\n",
              "      const blob = new Blob(buffers, {type: 'application/binary'});\n",
              "      const a = document.createElement('a');\n",
              "      a.href = window.URL.createObjectURL(blob);\n",
              "      a.download = filename;\n",
              "      div.appendChild(a);\n",
              "      a.click();\n",
              "      div.remove();\n",
              "    }\n",
              "  "
            ]
          },
          "metadata": {}
        },
        {
          "output_type": "display_data",
          "data": {
            "text/plain": [
              "<IPython.core.display.Javascript object>"
            ],
            "application/javascript": [
              "download(\"download_4d47958b-b4d0-4101-bd15-2e3a85c69ee2\", \"models.zip\", 1961)"
            ]
          },
          "metadata": {}
        }
      ]
    }
  ]
}